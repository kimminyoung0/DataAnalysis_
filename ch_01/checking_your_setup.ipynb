{
 "cells": [
  {
   "cell_type": "markdown",
   "metadata": {},
   "source": [
    "# Checking your setup\n",
    "Run through this notebook to make sure your environment is properly setup. Be sure to launch Jupyter from inside the virtual environment."
   ]
  },
  {
   "cell_type": "code",
   "execution_count": 4,
   "metadata": {},
   "outputs": [
    {
     "name": "stdout",
     "output_type": "stream",
     "text": [
      "Using Python in /Users/kimminyoung/opt/anaconda3/envs/danal:\n",
      "\u001b[41m[FAIL]\u001b[0m Python version >= 3.7.1 and < 3.10.0 is required, but 3.10.4 (main, Mar 31 2022, 03:37:37) [Clang 12.0.0 ] is installed.\n",
      "\n",
      "\u001b[41m[FAIL]\u001b[0m graphviz not installed.\n",
      "\u001b[41m[FAIL]\u001b[0m imblearn version 0.7.0 is required, but 0.11.0 installed.\n",
      "\u001b[41m[FAIL]\u001b[0m ipympl version 0.6.2 is required, but 0.9.3 installed.\n",
      "\u001b[41m[FAIL]\u001b[0m jupyterlab version 3.0.4 is required, but 3.3.2 installed.\n",
      "\u001b[41m[FAIL]\u001b[0m matplotlib version 3.3.2 is required, but 3.7.1 installed.\n",
      "\u001b[41m[FAIL]\u001b[0m numpy version >= 1.19.2 and <= 1.19.5 is required, but 1.22.3 installed.\n",
      "\u001b[41m[FAIL]\u001b[0m pandas version 1.2.0 is required, but 1.4.2 installed.\n",
      "\u001b[41m[FAIL]\u001b[0m requests version 2.24.0 is required, but 2.31.0 installed.\n",
      "\u001b[41m[FAIL]\u001b[0m sklearn version 0.23.2 is required, but 1.0.2 installed.\n",
      "\u001b[42m[ OK ]\u001b[0m scipy\n",
      "\u001b[42m[ OK ]\u001b[0m seaborn\n",
      "\u001b[41m[FAIL]\u001b[0m sqlalchemy version >= 1.3.19 and <= 1.3.20 is required, but 1.4.32 installed.\n",
      "\u001b[41m[FAIL]\u001b[0m statsmodels version >= 0.11.1 and <= 0.12.1 is required, but 0.13.2 installed.\n",
      "\u001b[42m[ OK ]\u001b[0m wheel\n",
      "\u001b[41m[FAIL]\u001b[0m login_attempt_simulator not installed.\n",
      "\u001b[41m[FAIL]\u001b[0m ml_utils not installed.\n",
      "\u001b[41m[FAIL]\u001b[0m stock_analysis not installed.\n",
      "\u001b[41m[FAIL]\u001b[0m visual_aids not installed.\n"
     ]
    }
   ],
   "source": [
    "from check_environment import run_checks\n",
    "run_checks()"
   ]
  },
  {
   "cell_type": "markdown",
   "metadata": {},
   "source": [
    "*Note: Adapted from Andreas Mueller's [`check_env.ipynb` notebook](https://github.com/amueller/ml-workshop-1-of-4/blob/master/check_env.ipynb).*\n",
    "\n",
    "<hr>\n",
    "<div style=\"overflow: hidden; margin-bottom: 10px;\">\n",
    "    <div style=\"float: left;\">\n",
    "         <a href=\"./introduction_to_data_analysis.ipynb\">\n",
    "            <button>&#8592; Introduction to Data Analysis</button>\n",
    "        </a>\n",
    "    </div>\n",
    "    <div style=\"float: right;\">\n",
    "        <a href=\"./python_101.ipynb\">\n",
    "            <button>Python 101</button>\n",
    "        </a>\n",
    "        <a href=\"./exercises.ipynb\">\n",
    "            <button>Exercises &#8594;</button>\n",
    "        </a>\n",
    "    </div>\n",
    "</div>\n",
    "<hr>"
   ]
  }
 ],
 "metadata": {
  "kernelspec": {
   "display_name": "danal",
   "language": "python",
   "name": "danal"
  },
  "language_info": {
   "codemirror_mode": {
    "name": "ipython",
    "version": 3
   },
   "file_extension": ".py",
   "mimetype": "text/x-python",
   "name": "python",
   "nbconvert_exporter": "python",
   "pygments_lexer": "ipython3",
   "version": "3.10.4"
  }
 },
 "nbformat": 4,
 "nbformat_minor": 4
}
